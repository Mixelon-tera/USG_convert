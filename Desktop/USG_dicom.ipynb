{
 "cells": [
  {
   "cell_type": "code",
   "execution_count": 7,
   "metadata": {},
   "outputs": [],
   "source": [
    "import pydicom \n",
    "import numpy as np\n",
    "import matplotlib\n",
    "import matplotlib.pyplot as plt\n",
    "import cv2\n",
    "from PIL import Image\n",
    "import os"
   ]
  },
  {
   "cell_type": "code",
   "execution_count": 8,
   "metadata": {},
   "outputs": [],
   "source": [
    "# Craw all data_path into files list\n",
    "\n",
    "# please specific the folder path\n",
    "file_path = '/Users/mix_tera/Desktop/AI_USG_liver'\n",
    "\n",
    "files = []\n",
    "for r, d, f in os.walk(file_path):\n",
    "    for file in f:\n",
    "        if '.dcm' in file or '000000' in file:\n",
    "            files.append(os.path.join(r, file))\n",
    "            \n",
    "print(\"We have total : \"+str(len(files))+\" files\")"
   ]
  },
  {
   "cell_type": "code",
   "execution_count": 14,
   "metadata": {},
   "outputs": [],
   "source": [
    "# Visualize the data\n",
    "\n",
    "i = files[20]\n",
    "ds = pydicom.dcmread(i)\n",
    "img = ds.pixel_array\n",
    "print(img.shape)\n",
    "plt.imshow(img,cmap='gray')"
   ]
  },
  {
   "cell_type": "code",
   "execution_count": 16,
   "metadata": {},
   "outputs": [
    {
     "name": "stdout",
     "output_type": "stream",
     "text": [
      "Cannot convert file :  00000020\n",
      "Cannot convert file :  1.2.840.113845.11.3000000001996778014.20180921180731.2166538.dcm\n",
      "Cannot convert file :  00000010\n",
      "Cannot convert file :  00000014\n",
      "Cannot convert file :  00000013\n",
      "Cannot convert file :  00000011\n",
      "Cannot convert file :  00000013\n",
      "Cannot convert file :  1.2.840.113845.11.3000000001996778014.20160223040132.1301628.dcm\n",
      "Cannot convert file :  0000000B\n",
      "Cannot convert file :  0000001A\n",
      "Cannot convert file :  00000013\n",
      "Cannot convert file :  0000000D\n",
      "Cannot convert file :  0000000E\n",
      "Cannot convert file :  0000001A\n",
      "Cannot convert file :  00000013\n",
      "Cannot convert file :  0000000D\n",
      "Cannot convert file :  00000015\n",
      "Cannot convert file :  00000013\n",
      "Cannot convert file :  00000016\n",
      "Cannot convert file :  00000012\n",
      "Cannot convert file :  0000000D\n",
      "Cannot convert file :  00000010\n",
      "Cannot convert file :  00000016\n",
      "Cannot convert file :  0000000D\n",
      "Cannot convert file :  0000000E\n",
      "Cannot convert file :  0000000D\n",
      "Cannot convert file :  00000020\n",
      "Cannot convert file :  1.2.840.113845.11.3000000001996778014.20181108181723.2223549.dcm\n",
      "Cannot convert file :  00000013\n",
      "Cannot convert file :  00000021\n",
      "Cannot convert file :  00000011\n",
      "Cannot convert file :  00000017\n",
      "Cannot convert file :  00000019\n",
      "Cannot convert file :  00000018\n",
      "Cannot convert file :  0000000D\n",
      "Cannot convert file :  00000024\n",
      "Cannot convert file :  00000017\n",
      "Cannot convert file :  00000016\n",
      "Cannot convert file :  00000016\n",
      "Cannot convert file :  00000010\n",
      "Cannot convert file :  0000000D\n",
      "Cannot convert file :  00000014\n",
      "Cannot convert file :  00000015\n"
     ]
    }
   ],
   "source": [
    "# please specific the output folder path\n",
    "convert_path = '/Users/mix_tera/Desktop/USG_JPG/'\n",
    "\n",
    "for f in files:\n",
    "    f_path = convert_path + (\"/\".join(f.split(\"/\")[5:-1])) + \"/\"\n",
    "    f_name = f.split(\"/\")[-1]\n",
    "    \n",
    "    if not os.path.exists(f_path):\n",
    "        os.makedirs(f_path)\n",
    "    ds = pydicom.dcmread(f)\n",
    "    try:\n",
    "        img = ds.pixel_array\n",
    "        matplotlib.image.imsave(f_path+\"/\"+f_name[:-4]+\".jpg\", img, cmap='gray')\n",
    "        #print(\"Sucess convert file : \",str(f_name))\n",
    "    except:\n",
    "        print(\"Cannot convert file : \",str(f_name))"
   ]
  },
  {
   "cell_type": "code",
   "execution_count": null,
   "metadata": {},
   "outputs": [],
   "source": []
  }
 ],
 "metadata": {
  "kernelspec": {
   "display_name": "Python 3",
   "language": "python",
   "name": "python3"
  },
  "language_info": {
   "codemirror_mode": {
    "name": "ipython",
    "version": 3
   },
   "file_extension": ".py",
   "mimetype": "text/x-python",
   "name": "python",
   "nbconvert_exporter": "python",
   "pygments_lexer": "ipython3",
   "version": "3.7.4"
  }
 },
 "nbformat": 4,
 "nbformat_minor": 4
}
